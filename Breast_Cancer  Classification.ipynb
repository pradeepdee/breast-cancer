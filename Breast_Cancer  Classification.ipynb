{
 "cells": [
  {
   "cell_type": "markdown",
   "id": "9cc82388",
   "metadata": {},
   "source": [
    "# Dataset : Breast Cancer\n",
    "# Artificial Neural Network"
   ]
  },
  {
   "cell_type": "code",
   "execution_count": 19,
   "id": "eeda275d",
   "metadata": {},
   "outputs": [],
   "source": [
    "## Necessary libraries\n",
    "\n",
    "import pandas as pd\n",
    "import numpy as np\n",
    "import matplotlib.pyplot as plt\n",
    "import seaborn as sns\n",
    "sns.set_style(\"whitegrid\")\n",
    "from sklearn.preprocessing import normalize"
   ]
  },
  {
   "cell_type": "code",
   "execution_count": 3,
   "id": "27042d82",
   "metadata": {},
   "outputs": [],
   "source": [
    "## Import Data\n",
    "\n",
    "data = pd.read_csv(r\"E:\\Imarticus\\Vinod Sir\\Neural networks\\BreastCancer.csv\")\n",
    "data = pd.DataFrame(data)"
   ]
  },
  {
   "cell_type": "code",
   "execution_count": 4,
   "id": "051a7995",
   "metadata": {},
   "outputs": [
    {
     "data": {
      "text/plain": [
       "Unnamed: 0          0\n",
       "Id                  0\n",
       "Cl.thickness        0\n",
       "Cell.size           0\n",
       "Cell.shape          0\n",
       "Marg.adhesion       0\n",
       "Epith.c.size        0\n",
       "Bare.nuclei        16\n",
       "Bl.cromatin         0\n",
       "Normal.nucleoli     0\n",
       "Mitoses             0\n",
       "Class               0\n",
       "dtype: int64"
      ]
     },
     "execution_count": 4,
     "metadata": {},
     "output_type": "execute_result"
    }
   ],
   "source": [
    "data.isnull().sum()"
   ]
  },
  {
   "cell_type": "code",
   "execution_count": 5,
   "id": "c23e4cc6",
   "metadata": {},
   "outputs": [],
   "source": [
    "data = data.dropna()"
   ]
  },
  {
   "cell_type": "code",
   "execution_count": 6,
   "id": "c86d1c15",
   "metadata": {},
   "outputs": [
    {
     "data": {
      "text/html": [
       "<div>\n",
       "<style scoped>\n",
       "    .dataframe tbody tr th:only-of-type {\n",
       "        vertical-align: middle;\n",
       "    }\n",
       "\n",
       "    .dataframe tbody tr th {\n",
       "        vertical-align: top;\n",
       "    }\n",
       "\n",
       "    .dataframe thead th {\n",
       "        text-align: right;\n",
       "    }\n",
       "</style>\n",
       "<table border=\"1\" class=\"dataframe\">\n",
       "  <thead>\n",
       "    <tr style=\"text-align: right;\">\n",
       "      <th></th>\n",
       "      <th>Unnamed: 0</th>\n",
       "      <th>Id</th>\n",
       "      <th>Cl.thickness</th>\n",
       "      <th>Cell.size</th>\n",
       "      <th>Cell.shape</th>\n",
       "      <th>Marg.adhesion</th>\n",
       "      <th>Epith.c.size</th>\n",
       "      <th>Bare.nuclei</th>\n",
       "      <th>Bl.cromatin</th>\n",
       "      <th>Normal.nucleoli</th>\n",
       "      <th>Mitoses</th>\n",
       "      <th>Class</th>\n",
       "    </tr>\n",
       "  </thead>\n",
       "  <tbody>\n",
       "    <tr>\n",
       "      <th>0</th>\n",
       "      <td>1</td>\n",
       "      <td>1000025</td>\n",
       "      <td>5</td>\n",
       "      <td>1</td>\n",
       "      <td>1</td>\n",
       "      <td>1</td>\n",
       "      <td>2</td>\n",
       "      <td>1.0</td>\n",
       "      <td>3</td>\n",
       "      <td>1</td>\n",
       "      <td>1</td>\n",
       "      <td>benign</td>\n",
       "    </tr>\n",
       "    <tr>\n",
       "      <th>1</th>\n",
       "      <td>2</td>\n",
       "      <td>1002945</td>\n",
       "      <td>5</td>\n",
       "      <td>4</td>\n",
       "      <td>4</td>\n",
       "      <td>5</td>\n",
       "      <td>7</td>\n",
       "      <td>10.0</td>\n",
       "      <td>3</td>\n",
       "      <td>2</td>\n",
       "      <td>1</td>\n",
       "      <td>benign</td>\n",
       "    </tr>\n",
       "    <tr>\n",
       "      <th>2</th>\n",
       "      <td>3</td>\n",
       "      <td>1015425</td>\n",
       "      <td>3</td>\n",
       "      <td>1</td>\n",
       "      <td>1</td>\n",
       "      <td>1</td>\n",
       "      <td>2</td>\n",
       "      <td>2.0</td>\n",
       "      <td>3</td>\n",
       "      <td>1</td>\n",
       "      <td>1</td>\n",
       "      <td>benign</td>\n",
       "    </tr>\n",
       "    <tr>\n",
       "      <th>3</th>\n",
       "      <td>4</td>\n",
       "      <td>1016277</td>\n",
       "      <td>6</td>\n",
       "      <td>8</td>\n",
       "      <td>8</td>\n",
       "      <td>1</td>\n",
       "      <td>3</td>\n",
       "      <td>4.0</td>\n",
       "      <td>3</td>\n",
       "      <td>7</td>\n",
       "      <td>1</td>\n",
       "      <td>benign</td>\n",
       "    </tr>\n",
       "    <tr>\n",
       "      <th>4</th>\n",
       "      <td>5</td>\n",
       "      <td>1017023</td>\n",
       "      <td>4</td>\n",
       "      <td>1</td>\n",
       "      <td>1</td>\n",
       "      <td>3</td>\n",
       "      <td>2</td>\n",
       "      <td>1.0</td>\n",
       "      <td>3</td>\n",
       "      <td>1</td>\n",
       "      <td>1</td>\n",
       "      <td>benign</td>\n",
       "    </tr>\n",
       "  </tbody>\n",
       "</table>\n",
       "</div>"
      ],
      "text/plain": [
       "   Unnamed: 0       Id  Cl.thickness  Cell.size  Cell.shape  Marg.adhesion  \\\n",
       "0           1  1000025             5          1           1              1   \n",
       "1           2  1002945             5          4           4              5   \n",
       "2           3  1015425             3          1           1              1   \n",
       "3           4  1016277             6          8           8              1   \n",
       "4           5  1017023             4          1           1              3   \n",
       "\n",
       "   Epith.c.size  Bare.nuclei  Bl.cromatin  Normal.nucleoli  Mitoses   Class  \n",
       "0             2          1.0            3                1        1  benign  \n",
       "1             7         10.0            3                2        1  benign  \n",
       "2             2          2.0            3                1        1  benign  \n",
       "3             3          4.0            3                7        1  benign  \n",
       "4             2          1.0            3                1        1  benign  "
      ]
     },
     "execution_count": 6,
     "metadata": {},
     "output_type": "execute_result"
    }
   ],
   "source": [
    "data.head()"
   ]
  },
  {
   "cell_type": "code",
   "execution_count": 7,
   "id": "39255741",
   "metadata": {},
   "outputs": [
    {
     "data": {
      "text/plain": [
       "(683, 12)"
      ]
     },
     "execution_count": 7,
     "metadata": {},
     "output_type": "execute_result"
    }
   ],
   "source": [
    "data.shape"
   ]
  },
  {
   "cell_type": "code",
   "execution_count": 9,
   "id": "588430a9",
   "metadata": {},
   "outputs": [
    {
     "name": "stdout",
     "output_type": "stream",
     "text": [
      "<class 'pandas.core.frame.DataFrame'>\n",
      "Int64Index: 683 entries, 0 to 698\n",
      "Data columns (total 12 columns):\n",
      " #   Column           Non-Null Count  Dtype  \n",
      "---  ------           --------------  -----  \n",
      " 0   Unnamed: 0       683 non-null    int64  \n",
      " 1   Id               683 non-null    int64  \n",
      " 2   Cl.thickness     683 non-null    int64  \n",
      " 3   Cell.size        683 non-null    int64  \n",
      " 4   Cell.shape       683 non-null    int64  \n",
      " 5   Marg.adhesion    683 non-null    int64  \n",
      " 6   Epith.c.size     683 non-null    int64  \n",
      " 7   Bare.nuclei      683 non-null    float64\n",
      " 8   Bl.cromatin      683 non-null    int64  \n",
      " 9   Normal.nucleoli  683 non-null    int64  \n",
      " 10  Mitoses          683 non-null    int64  \n",
      " 11  Class            683 non-null    object \n",
      "dtypes: float64(1), int64(10), object(1)\n",
      "memory usage: 69.4+ KB\n"
     ]
    }
   ],
   "source": [
    "data.info()"
   ]
  },
  {
   "cell_type": "markdown",
   "id": "46170ccd",
   "metadata": {},
   "source": [
    "# Cl.thickness"
   ]
  },
  {
   "cell_type": "code",
   "execution_count": 20,
   "id": "1e42f0ad",
   "metadata": {},
   "outputs": [
    {
     "data": {
      "text/plain": [
       "<AxesSubplot:xlabel='count', ylabel='Cl.thickness'>"
      ]
     },
     "execution_count": 20,
     "metadata": {},
     "output_type": "execute_result"
    },
    {
     "data": {
      "image/png": "[encoded data removed]",
      "text/plain": [
       "<Figure size 576x432 with 1 Axes>"
      ]
     },
     "metadata": {},
     "output_type": "display_data"
    }
   ],
   "source": [
    "plt.figure(figsize=(8,6))\n",
    "sns.countplot(data = data, y = 'Cl.thickness')"
   ]
  },
  {
   "cell_type": "code",
   "execution_count": 24,
   "id": "30125a21",
   "metadata": {},
   "outputs": [
    {
     "data": {
      "image/png": "[encoded data removed]",
      "text/plain": [
       "<Figure size 648x576 with 1 Axes>"
      ]
     },
     "metadata": {},
     "output_type": "display_data"
    }
   ],
   "source": [
    "plt.figure(figsize=(9,8))\n",
    "sns.countplot(y ='Cl.thickness', hue = \"Class\", data = data)\n",
    "plt.show()"
   ]
  },
  {
   "cell_type": "markdown",
   "id": "9ef4ecf5",
   "metadata": {},
   "source": [
    "# Cell.size"
   ]
  },
  {
   "cell_type": "code",
   "execution_count": 27,
   "id": "0296661d",
   "metadata": {},
   "outputs": [
    {
     "data": {
      "text/plain": [
       "<AxesSubplot:xlabel='Cell.size', ylabel='count'>"
      ]
     },
     "execution_count": 27,
     "metadata": {},
     "output_type": "execute_result"
    },
    {
     "data": {
      "image/png": "[encoded data removed]",
      "text/plain": [
       "<Figure size 576x432 with 1 Axes>"
      ]
     },
     "metadata": {},
     "output_type": "display_data"
    }
   ],
   "source": [
    "plt.figure(figsize=(8,6))\n",
    "sns.countplot(data = data, x = 'Cell.size', color = 'darkred')"
   ]
  },
  {
   "cell_type": "code",
   "execution_count": 30,
   "id": "ac5ceb75",
   "metadata": {},
   "outputs": [
    {
     "data": {
      "image/png": "[encoded data removed]",
      "text/plain": [
       "<Figure size 648x432 with 1 Axes>"
      ]
     },
     "metadata": {},
     "output_type": "display_data"
    }
   ],
   "source": [
    "plt.figure(figsize=(9,6))\n",
    "sns.countplot(x ='Cell.size', hue = \"Class\", data = data)\n",
    "plt.show()"
   ]
  },
  {
   "cell_type": "markdown",
   "id": "bff13c68",
   "metadata": {},
   "source": [
    "# Cell.shape"
   ]
  },
  {
   "cell_type": "code",
   "execution_count": 31,
   "id": "6ebd9484",
   "metadata": {},
   "outputs": [
    {
     "data": {
      "text/plain": [
       "<AxesSubplot:xlabel='Cell.shape', ylabel='count'>"
      ]
     },
     "execution_count": 31,
     "metadata": {},
     "output_type": "execute_result"
    },
    {
     "data": {
      "image/png": "[encoded data removed]",
      "text/plain": [
       "<Figure size 576x432 with 1 Axes>"
      ]
     },
     "metadata": {},
     "output_type": "display_data"
    }
   ],
   "source": [
    "plt.figure(figsize=(8,6))\n",
    "sns.countplot(data = data, x = 'Cell.shape', color = 'purple')"
   ]
  },
  {
   "cell_type": "code",
   "execution_count": 32,
   "id": "ed925dae",
   "metadata": {},
   "outputs": [
    {
     "data": {
      "image/png": "[encoded data removed]",
      "text/plain": [
       "<Figure size 648x432 with 1 Axes>"
      ]
     },
     "metadata": {},
     "output_type": "display_data"
    }
   ],
   "source": [
    "plt.figure(figsize=(9,6))\n",
    "sns.countplot(x ='Cell.shape', hue = \"Class\", data = data)\n",
    "plt.show()"
   ]
  },
  {
   "cell_type": "markdown",
   "id": "279e3894",
   "metadata": {},
   "source": [
    "# Marg.adhesion"
   ]
  },
  {
   "cell_type": "code",
   "execution_count": 33,
   "id": "96ed02d6",
   "metadata": {},
   "outputs": [
    {
     "data": {
      "text/plain": [
       "<AxesSubplot:xlabel='Marg.adhesion', ylabel='count'>"
      ]
     },
     "execution_count": 33,
     "metadata": {},
     "output_type": "execute_result"
    },
    {
     "data": {
      "image/png": "[encoded data removed]",
      "text/plain": [
       "<Figure size 576x432 with 1 Axes>"
      ]
     },
     "metadata": {},
     "output_type": "display_data"
    }
   ],
   "source": [
    "plt.figure(figsize=(8,6))\n",
    "sns.countplot(data = data, x = 'Marg.adhesion', color = 'darkgreen')"
   ]
  },
  {
   "cell_type": "code",
   "execution_count": 34,
   "id": "aa4e98a2",
   "metadata": {},
   "outputs": [
    {
     "data": {
      "image/png": "[encoded data removed]",
      "text/plain": [
       "<Figure size 648x432 with 1 Axes>"
      ]
     },
     "metadata": {},
     "output_type": "display_data"
    }
   ],
   "source": [
    "plt.figure(figsize=(9,6))\n",
    "sns.countplot(x ='Marg.adhesion', hue = \"Class\", data = data)\n",
    "plt.show()"
   ]
  },
  {
   "cell_type": "markdown",
   "id": "ad795fe9",
   "metadata": {},
   "source": [
    "# Epith.c.size"
   ]
  },
  {
   "cell_type": "code",
   "execution_count": 35,
   "id": "75bf95e6",
   "metadata": {},
   "outputs": [
    {
     "data": {
      "text/plain": [
       "<AxesSubplot:xlabel='Epith.c.size', ylabel='count'>"
      ]
     },
     "execution_count": 35,
     "metadata": {},
     "output_type": "execute_result"
    },
    {
     "data": {
      "image/png": "[encoded data removed]",
      "text/plain": [
       "<Figure size 576x432 with 1 Axes>"
      ]
     },
     "metadata": {},
     "output_type": "display_data"
    }
   ],
   "source": [
    "plt.figure(figsize=(8,6))\n",
    "sns.countplot(data = data, x = 'Epith.c.size', color = 'darkorange')"
   ]
  },
  {
   "cell_type": "code",
   "execution_count": 36,
   "id": "3b8d0f6f",
   "metadata": {},
   "outputs": [
    {
     "data": {
      "image/png": "[encoded data removed]",
      "text/plain": [
       "<Figure size 648x432 with 1 Axes>"
      ]
     },
     "metadata": {},
     "output_type": "display_data"
    }
   ],
   "source": [
    "plt.figure(figsize=(9,6))\n",
    "sns.countplot(x ='Epith.c.size', hue = \"Class\", data = data)\n",
    "plt.show()"
   ]
  },
  {
   "cell_type": "markdown",
   "id": "98cfd470",
   "metadata": {},
   "source": [
    "# Bare.nuclei "
   ]
  },
  {
   "cell_type": "code",
   "execution_count": 39,
   "id": "247093e4",
   "metadata": {},
   "outputs": [
    {
     "data": {
      "text/plain": [
       "<AxesSubplot:xlabel='Bare.nuclei', ylabel='count'>"
      ]
     },
     "execution_count": 39,
     "metadata": {},
     "output_type": "execute_result"
    },
    {
     "data": {
      "image/png": "[encoded data removed]",
      "text/plain": [
       "<Figure size 576x432 with 1 Axes>"
      ]
     },
     "metadata": {},
     "output_type": "display_data"
    }
   ],
   "source": [
    "plt.figure(figsize=(8,6))\n",
    "sns.countplot(data = data, x = 'Bare.nuclei', color = 'darkblue')"
   ]
  },
  {
   "cell_type": "code",
   "execution_count": 40,
   "id": "529ca4ad",
   "metadata": {},
   "outputs": [
    {
     "data": {
      "image/png": "[encoded data removed]",
      "text/plain": [
       "<Figure size 648x432 with 1 Axes>"
      ]
     },
     "metadata": {},
     "output_type": "display_data"
    }
   ],
   "source": [
    "plt.figure(figsize=(9,6))\n",
    "sns.countplot(x ='Bare.nuclei', hue = \"Class\", data = data)\n",
    "plt.show()"
   ]
  },
  {
   "cell_type": "markdown",
   "id": "8df65479",
   "metadata": {},
   "source": [
    "# Bl.cromatin "
   ]
  },
  {
   "cell_type": "code",
   "execution_count": 42,
   "id": "9dfd3575",
   "metadata": {},
   "outputs": [
    {
     "data": {
      "text/plain": [
       "<AxesSubplot:xlabel='Bl.cromatin', ylabel='count'>"
      ]
     },
     "execution_count": 42,
     "metadata": {},
     "output_type": "execute_result"
    },
    {
     "data": {
      "image/png": "[encoded data removed]",
      "text/plain": [
       "<Figure size 576x432 with 1 Axes>"
      ]
     },
     "metadata": {},
     "output_type": "display_data"
    }
   ],
   "source": [
    "plt.figure(figsize=(8,6))\n",
    "sns.countplot(data = data, x = 'Bl.cromatin', color = 'red')"
   ]
  },
  {
   "cell_type": "code",
   "execution_count": 43,
   "id": "262ba975",
   "metadata": {},
   "outputs": [
    {
     "data": {
      "image/png": "[encoded data removed]",
      "text/plain": [
       "<Figure size 648x432 with 1 Axes>"
      ]
     },
     "metadata": {},
     "output_type": "display_data"
    }
   ],
   "source": [
    "plt.figure(figsize=(9,6))\n",
    "sns.countplot(x ='Bl.cromatin', hue = \"Class\", data = data)\n",
    "plt.show()"
   ]
  },
  {
   "cell_type": "markdown",
   "id": "84f8ecdd",
   "metadata": {},
   "source": [
    "# Normal.nucleoli"
   ]
  },
  {
   "cell_type": "code",
   "execution_count": 44,
   "id": "698dea32",
   "metadata": {},
   "outputs": [
    {
     "data": {
      "text/plain": [
       "<AxesSubplot:xlabel='Normal.nucleoli', ylabel='count'>"
      ]
     },
     "execution_count": 44,
     "metadata": {},
     "output_type": "execute_result"
    },
    {
     "data": {
      "image/png": "[encoded data removed]",
      "text/plain": [
       "<Figure size 576x432 with 1 Axes>"
      ]
     },
     "metadata": {},
     "output_type": "display_data"
    }
   ],
   "source": [
    "plt.figure(figsize=(8,6))\n",
    "sns.countplot(data = data, x = 'Normal.nucleoli', color = 'pink')"
   ]
  },
  {
   "cell_type": "code",
   "execution_count": 45,
   "id": "a4d8c204",
   "metadata": {},
   "outputs": [
    {
     "data": {
      "image/png": "[encoded data removed]",
      "text/plain": [
       "<Figure size 648x432 with 1 Axes>"
      ]
     },
     "metadata": {},
     "output_type": "display_data"
    }
   ],
   "source": [
    "plt.figure(figsize=(9,6))\n",
    "sns.countplot(x ='Normal.nucleoli', hue = \"Class\", data = data)\n",
    "plt.show()"
   ]
  },
  {
   "cell_type": "markdown",
   "id": "59f3975a",
   "metadata": {},
   "source": [
    "# Mitoses"
   ]
  },
  {
   "cell_type": "code",
   "execution_count": 49,
   "id": "3a1005da",
   "metadata": {},
   "outputs": [
    {
     "data": {
      "text/plain": [
       "<AxesSubplot:xlabel='Mitoses', ylabel='count'>"
      ]
     },
     "execution_count": 49,
     "metadata": {},
     "output_type": "execute_result"
    },
    {
     "data": {
      "image/png": "[encoded data removed]",
      "text/plain": [
       "<Figure size 576x432 with 1 Axes>"
      ]
     },
     "metadata": {},
     "output_type": "display_data"
    }
   ],
   "source": [
    "plt.figure(figsize=(8,6))\n",
    "sns.countplot(data = data, x = 'Mitoses', color = 'orange')"
   ]
  },
  {
   "cell_type": "code",
   "execution_count": 50,
   "id": "4e2d4b70",
   "metadata": {},
   "outputs": [
    {
     "data": {
      "image/png": "[encoded data removed]",
      "text/plain": [
       "<Figure size 648x432 with 1 Axes>"
      ]
     },
     "metadata": {},
     "output_type": "display_data"
    }
   ],
   "source": [
    "plt.figure(figsize=(9,6))\n",
    "sns.countplot(x ='Mitoses', hue = \"Class\", data = data)\n",
    "plt.show()"
   ]
  },
  {
   "cell_type": "markdown",
   "id": "2b5df72f",
   "metadata": {},
   "source": [
    "# Create Predictors"
   ]
  },
  {
   "cell_type": "code",
   "execution_count": 55,
   "id": "99287250",
   "metadata": {},
   "outputs": [
    {
     "data": {
      "text/plain": [
       "(683, 9)"
      ]
     },
     "execution_count": 55,
     "metadata": {},
     "output_type": "execute_result"
    }
   ],
   "source": [
    "X = data.iloc[:, 2:11]\n",
    "X.shape"
   ]
  },
  {
   "cell_type": "code",
   "execution_count": 56,
   "id": "f3ac2bad",
   "metadata": {},
   "outputs": [
    {
     "name": "stdout",
     "output_type": "stream",
     "text": [
      "<class 'pandas.core.frame.DataFrame'>\n",
      "Int64Index: 683 entries, 0 to 698\n",
      "Data columns (total 9 columns):\n",
      " #   Column           Non-Null Count  Dtype  \n",
      "---  ------           --------------  -----  \n",
      " 0   Cl.thickness     683 non-null    int64  \n",
      " 1   Cell.size        683 non-null    int64  \n",
      " 2   Cell.shape       683 non-null    int64  \n",
      " 3   Marg.adhesion    683 non-null    int64  \n",
      " 4   Epith.c.size     683 non-null    int64  \n",
      " 5   Bare.nuclei      683 non-null    float64\n",
      " 6   Bl.cromatin      683 non-null    int64  \n",
      " 7   Normal.nucleoli  683 non-null    int64  \n",
      " 8   Mitoses          683 non-null    int64  \n",
      "dtypes: float64(1), int64(8)\n",
      "memory usage: 69.5 KB\n"
     ]
    }
   ],
   "source": [
    "X.info()"
   ]
  },
  {
   "cell_type": "markdown",
   "id": "05866333",
   "metadata": {},
   "source": [
    "# Create Response Variable"
   ]
  },
  {
   "cell_type": "code",
   "execution_count": 57,
   "id": "9091e1bb",
   "metadata": {},
   "outputs": [
    {
     "data": {
      "text/plain": [
       "(683,)"
      ]
     },
     "execution_count": 57,
     "metadata": {},
     "output_type": "execute_result"
    }
   ],
   "source": [
    "y = data.iloc[:, 11]\n",
    "y.shape"
   ]
  },
  {
   "cell_type": "code",
   "execution_count": 58,
   "id": "889fae63",
   "metadata": {},
   "outputs": [
    {
     "data": {
      "text/plain": [
       "0    benign\n",
       "1    benign\n",
       "2    benign\n",
       "3    benign\n",
       "4    benign\n",
       "Name: Class, dtype: object"
      ]
     },
     "execution_count": 58,
     "metadata": {},
     "output_type": "execute_result"
    }
   ],
   "source": [
    "y.head()"
   ]
  },
  {
   "cell_type": "markdown",
   "id": "12623e5c",
   "metadata": {},
   "source": [
    "# Train & Test Data and Scaling"
   ]
  },
  {
   "cell_type": "markdown",
   "id": "26205e59",
   "metadata": {},
   "source": [
    "### Train and test data"
   ]
  },
  {
   "cell_type": "code",
   "execution_count": 59,
   "id": "27d6a80e",
   "metadata": {},
   "outputs": [],
   "source": [
    "from sklearn.model_selection import train_test_split\n",
    "X_train, X_test, y_train, y_test = train_test_split(X, y)"
   ]
  },
  {
   "cell_type": "markdown",
   "id": "5d15c9c0",
   "metadata": {},
   "source": [
    "### Pre processing of data"
   ]
  },
  {
   "cell_type": "code",
   "execution_count": 60,
   "id": "e09b7669",
   "metadata": {},
   "outputs": [],
   "source": [
    "from sklearn.preprocessing import StandardScaler\n",
    "scaler = StandardScaler()"
   ]
  },
  {
   "cell_type": "markdown",
   "id": "dcd54417",
   "metadata": {},
   "source": [
    "### Fit only to the training data"
   ]
  },
  {
   "cell_type": "code",
   "execution_count": 61,
   "id": "81d023ff",
   "metadata": {},
   "outputs": [
    {
     "data": {
      "text/plain": [
       "StandardScaler()"
      ]
     },
     "execution_count": 61,
     "metadata": {},
     "output_type": "execute_result"
    }
   ],
   "source": [
    "scaler.fit(X_train)"
   ]
  },
  {
   "cell_type": "markdown",
   "id": "a5477335",
   "metadata": {},
   "source": [
    "### Apply transformations to the data"
   ]
  },
  {
   "cell_type": "code",
   "execution_count": 62,
   "id": "7e5e2c85",
   "metadata": {},
   "outputs": [
    {
     "data": {
      "text/plain": [
       "array([[-1.23077931, -0.69740672, -0.39784391, ...,  0.24670054,\n",
       "        -0.29421397, -0.3559007 ],\n",
       "       [-1.23077931, -0.69740672, -0.73564835, ..., -0.99569956,\n",
       "        -0.6267472 , -0.3559007 ],\n",
       "       [ 1.941162  ,  0.29446061, -0.39784391, ...,  0.24670054,\n",
       "         0.03831926,  4.51053969],\n",
       "       ...,\n",
       "       [-1.23077931, -0.69740672, -0.39784391, ..., -0.58156619,\n",
       "        -0.6267472 , -0.3559007 ],\n",
       "       [ 0.17897238, -0.69740672, -0.73564835, ..., -0.58156619,\n",
       "        -0.6267472 , -0.3559007 ],\n",
       "       [ 0.17897238,  2.27819528,  0.95337387, ...,  0.24670054,\n",
       "         2.36605187,  4.51053969]])"
      ]
     },
     "execution_count": 62,
     "metadata": {},
     "output_type": "execute_result"
    }
   ],
   "source": [
    "X_train = scaler.transform(X_train)\n",
    "X_train"
   ]
  },
  {
   "cell_type": "code",
   "execution_count": 63,
   "id": "d4c72a4f",
   "metadata": {},
   "outputs": [
    {
     "data": {
      "text/plain": [
       "(512, 9)"
      ]
     },
     "execution_count": 63,
     "metadata": {},
     "output_type": "execute_result"
    }
   ],
   "source": [
    "X_train.shape"
   ]
  },
  {
   "cell_type": "code",
   "execution_count": 64,
   "id": "902c5e33",
   "metadata": {},
   "outputs": [
    {
     "data": {
      "text/plain": [
       "array([[-1.23077931, -0.69740672, -0.73564835, ..., -0.16743283,\n",
       "        -0.6267472 , -0.3559007 ],\n",
       "       [-0.87834139, -0.69740672, -0.73564835, ..., -0.99569956,\n",
       "        -0.6267472 , -0.3559007 ],\n",
       "       [-1.23077931, -0.36678427, -0.39784391, ..., -0.58156619,\n",
       "        -0.6267472 , -0.3559007 ],\n",
       "       ...,\n",
       "       [ 1.941162  ,  2.27819528,  2.30459164, ...,  1.90323401,\n",
       "        -0.6267472 , -0.3559007 ],\n",
       "       [-0.87834139, -0.69740672, -0.73564835, ..., -0.58156619,\n",
       "        -0.6267472 , -0.3559007 ],\n",
       "       [-1.23077931, -0.69740672, -0.73564835, ..., -0.16743283,\n",
       "        -0.6267472 , -0.3559007 ]])"
      ]
     },
     "execution_count": 64,
     "metadata": {},
     "output_type": "execute_result"
    }
   ],
   "source": [
    "X_test = scaler.transform(X_test)\n",
    "X_test"
   ]
  },
  {
   "cell_type": "code",
   "execution_count": 65,
   "id": "35c1f73f",
   "metadata": {},
   "outputs": [
    {
     "data": {
      "text/plain": [
       "(171, 9)"
      ]
     },
     "execution_count": 65,
     "metadata": {},
     "output_type": "execute_result"
    }
   ],
   "source": [
    "X_test.shape"
   ]
  },
  {
   "cell_type": "code",
   "execution_count": 66,
   "id": "b045d958",
   "metadata": {},
   "outputs": [],
   "source": [
    "from sklearn.neural_network import MLPClassifier"
   ]
  },
  {
   "cell_type": "code",
   "execution_count": 67,
   "id": "8aa8e347",
   "metadata": {},
   "outputs": [
    {
     "name": "stderr",
     "output_type": "stream",
     "text": [
      "C:\\Softwares\\lib\\site-packages\\sklearn\\neural_network\\_multilayer_perceptron.py:614: ConvergenceWarning: Stochastic Optimizer: Maximum iterations (200) reached and the optimization hasn't converged yet.\n",
      "  warnings.warn(\n"
     ]
    },
    {
     "data": {
      "text/plain": [
       "MLPClassifier(hidden_layer_sizes=(30, 30, 30))"
      ]
     },
     "execution_count": 67,
     "metadata": {},
     "output_type": "execute_result"
    }
   ],
   "source": [
    "mlp = MLPClassifier(hidden_layer_sizes = (30,30,30))\n",
    "mlp.fit(X_train, y_train)"
   ]
  },
  {
   "cell_type": "markdown",
   "id": "8ca5ef8e",
   "metadata": {},
   "source": [
    "## Predict"
   ]
  },
  {
   "cell_type": "code",
   "execution_count": 68,
   "id": "e030966e",
   "metadata": {},
   "outputs": [
    {
     "data": {
      "text/plain": [
       "array(['benign', 'benign', 'benign', 'malignant', 'benign', 'malignant',\n",
       "       'benign', 'malignant', 'malignant', 'benign', 'benign', 'benign',\n",
       "       'benign', 'malignant', 'benign', 'benign', 'benign', 'benign',\n",
       "       'malignant', 'benign', 'benign', 'malignant', 'malignant',\n",
       "       'malignant', 'benign', 'benign', 'benign', 'malignant',\n",
       "       'malignant', 'malignant', 'benign', 'benign', 'benign', 'benign',\n",
       "       'benign', 'malignant', 'malignant', 'benign', 'malignant',\n",
       "       'malignant', 'benign', 'benign', 'malignant', 'benign', 'benign',\n",
       "       'malignant', 'benign', 'malignant', 'benign', 'benign', 'benign',\n",
       "       'benign', 'malignant', 'malignant', 'benign', 'benign', 'benign',\n",
       "       'benign', 'malignant', 'benign', 'benign', 'malignant', 'benign',\n",
       "       'benign', 'benign', 'benign', 'benign', 'malignant', 'benign',\n",
       "       'benign', 'benign', 'malignant', 'benign', 'malignant', 'benign',\n",
       "       'benign', 'benign', 'malignant', 'benign', 'benign', 'benign',\n",
       "       'malignant', 'benign', 'benign', 'benign', 'benign', 'benign',\n",
       "       'benign', 'benign', 'malignant', 'benign', 'benign', 'malignant',\n",
       "       'benign', 'benign', 'benign', 'benign', 'benign', 'malignant',\n",
       "       'benign', 'benign', 'malignant', 'malignant', 'benign', 'benign',\n",
       "       'malignant', 'benign', 'benign', 'malignant', 'benign', 'benign',\n",
       "       'malignant', 'malignant', 'benign', 'malignant', 'benign',\n",
       "       'malignant', 'malignant', 'benign', 'benign', 'benign', 'benign',\n",
       "       'benign', 'malignant', 'benign', 'malignant', 'malignant',\n",
       "       'benign', 'benign', 'benign', 'benign', 'benign', 'benign',\n",
       "       'malignant', 'benign', 'benign', 'benign', 'benign', 'benign',\n",
       "       'malignant', 'benign', 'benign', 'benign', 'benign', 'malignant',\n",
       "       'benign', 'benign', 'benign', 'malignant', 'benign', 'malignant',\n",
       "       'benign', 'malignant', 'malignant', 'benign', 'malignant',\n",
       "       'malignant', 'malignant', 'malignant', 'benign', 'benign',\n",
       "       'malignant', 'benign', 'benign', 'malignant', 'malignant',\n",
       "       'benign', 'benign', 'malignant', 'benign', 'benign'], dtype='<U9')"
      ]
     },
     "execution_count": 68,
     "metadata": {},
     "output_type": "execute_result"
    }
   ],
   "source": [
    "predictions = mlp.predict(X_test)\n",
    "predictions"
   ]
  },
  {
   "cell_type": "markdown",
   "id": "19260404",
   "metadata": {},
   "source": [
    "## Results"
   ]
  },
  {
   "cell_type": "code",
   "execution_count": 69,
   "id": "4ebe3daa",
   "metadata": {},
   "outputs": [],
   "source": [
    "from sklearn.metrics import classification_report, confusion_matrix"
   ]
  },
  {
   "cell_type": "code",
   "execution_count": 70,
   "id": "f8558fce",
   "metadata": {},
   "outputs": [
    {
     "name": "stdout",
     "output_type": "stream",
     "text": [
      "[[110   2]\n",
      " [  3  56]]\n"
     ]
    }
   ],
   "source": [
    "print(confusion_matrix(y_test, predictions))"
   ]
  },
  {
   "cell_type": "code",
   "execution_count": 71,
   "id": "def72691",
   "metadata": {},
   "outputs": [
    {
     "name": "stdout",
     "output_type": "stream",
     "text": [
      "              precision    recall  f1-score   support\n",
      "\n",
      "      benign       0.97      0.98      0.98       112\n",
      "   malignant       0.97      0.95      0.96        59\n",
      "\n",
      "    accuracy                           0.97       171\n",
      "   macro avg       0.97      0.97      0.97       171\n",
      "weighted avg       0.97      0.97      0.97       171\n",
      "\n"
     ]
    }
   ],
   "source": [
    "print(classification_report(y_test, predictions))"
   ]
  },
  {
   "cell_type": "markdown",
   "id": "8e3987d3",
   "metadata": {},
   "source": [
    "### Curve"
   ]
  },
  {
   "cell_type": "code",
   "execution_count": 72,
   "id": "d3773543",
   "metadata": {},
   "outputs": [],
   "source": [
    "from sklearn import metrics\n",
    "from sklearn.metrics import roc_curve"
   ]
  },
  {
   "cell_type": "code",
   "execution_count": 75,
   "id": "f7e728b8",
   "metadata": {},
   "outputs": [],
   "source": [
    "y_pred_prob = mlp.predict_proba(X_test)[:, 1]"
   ]
  },
  {
   "cell_type": "code",
   "execution_count": 76,
   "id": "2e9a98a8",
   "metadata": {},
   "outputs": [],
   "source": [
    "fpr, tpr, thresholds = roc_curve(y_test, y_pred_prob, pos_label = 'malignant')"
   ]
  },
  {
   "cell_type": "code",
   "execution_count": 77,
   "id": "cf64cbd4",
   "metadata": {},
   "outputs": [],
   "source": [
    "auc = metrics.roc_auc_score(y_test, y_pred_prob)"
   ]
  },
  {
   "cell_type": "code",
   "execution_count": 78,
   "id": "ddd91af4",
   "metadata": {},
   "outputs": [
    {
     "data": {
      "image/png": "[encoded data removed]",
      "text/plain": [
       "<Figure size 432x288 with 1 Axes>"
      ]
     },
     "metadata": {},
     "output_type": "display_data"
    }
   ],
   "source": [
    "plt.figure()\n",
    "lw = 2\n",
    "plt.plot(fpr, tpr, color = 'darkorange', lw = lw, label = 'ROC CURVE(area = %0.2f)' % auc)\n",
    "plt.plot([0,1], [0,1], color = 'navy', lw = lw, linestyle = '--')\n",
    "plt.xlim([0.0, 1.0])\n",
    "plt.ylim([0.0, 1.05])\n",
    "plt.xlabel('False Positive Rate')\n",
    "plt.ylabel('True Positive Rate')\n",
    "plt.title('ROC Curve')\n",
    "plt.legend(loc = 'lower right')\n",
    "plt.show()"
   ]
  },
  {
   "cell_type": "code",
   "execution_count": null,
   "id": "39431d2e",
   "metadata": {},
   "outputs": [],
   "source": []
  }
 ],
 "metadata": {
  "kernelspec": {
   "display_name": "Python 3 (ipykernel)",
   "language": "python",
   "name": "python3"
  },
  "language_info": {
   "codemirror_mode": {
    "name": "ipython",
    "version": 3
   },
   "file_extension": ".py",
   "mimetype": "text/x-python",
   "name": "python",
   "nbconvert_exporter": "python",
   "pygments_lexer": "ipython3",
   "version": "3.9.7"
  }
 },
 "nbformat": 4,
 "nbformat_minor": 5
}
